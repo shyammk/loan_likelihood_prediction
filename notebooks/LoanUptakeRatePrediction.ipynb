{
 "cells": [
  {
   "cell_type": "markdown",
   "metadata": {},
   "source": [
    "# <center><font color='blue'>Use Case - Predictive Model to Identify Customers Likely to Take a Loan</font></center>\n",
    "#### <center><font color='blue'>Author: Shyam Mohan Kizhakekara     |     Email Id: shyammohan.kizhakekara@boi.com</font></center>"
   ]
  },
  {
   "cell_type": "code",
   "execution_count": 158,
   "metadata": {},
   "outputs": [],
   "source": [
    "# Import the required libraries\n",
    "import warnings\n",
    "warnings.filterwarnings(\"ignore\", category=DeprecationWarning)\n",
    "import pandas as pd\n",
    "import numpy as np\n",
    "import math\n",
    "import matplotlib.pyplot as plt\n",
    "%matplotlib inline\n",
    "import seaborn as sns\n",
    "from matplotlib.colors import ListedColormap\n",
    "from sklearn.preprocessing import LabelEncoder, OneHotEncoder, MinMaxScaler\n",
    "from sklearn.utils import resample\n",
    "from sklearn.ensemble import RandomForestRegressor\n",
    "from sklearn.ensemble import RandomForestClassifier\n",
    "from sklearn.feature_selection import SelectFromModel\n",
    "from sklearn.model_selection import train_test_split\n",
    "import sklearn.metrics as metrics\n",
    "from sklearn.metrics import accuracy_score\n",
    "from sklearn.linear_model import LogisticRegression\n",
    "from sklearn.pipeline import Pipeline\n",
    "from sklearn.impute import SimpleImputer\n",
    "from sklearn.compose import ColumnTransformer\n",
    "from sklearn.model_selection import cross_val_score\n",
    "from sklearn.model_selection import GridSearchCV"
   ]
  },
  {
   "cell_type": "markdown",
   "metadata": {},
   "source": [
    "## <font color='blue'>Config</font>"
   ]
  },
  {
   "cell_type": "code",
   "execution_count": 159,
   "metadata": {},
   "outputs": [],
   "source": [
    "PROCESSED_DATA_DIR = \"../data/processed/\"\n",
    "PROCESSED_TRAIN_DATA_DIR = PROCESSED_DATA_DIR + \"train/\"\n",
    "PROCESSED_TEST_DATA_DIR = PROCESSED_DATA_DIR + \"test/\"\n",
    "PROC_TRAINING_DATA_FILE = PROCESSED_TRAIN_DATA_DIR + \"Processed_Training_Data.csv\"\n",
    "PROC_TEST_DATA_FILE = PROCESSED_TEST_DATA_DIR + \"Processed_Testing_Data.csv\"\n",
    "ENCODING_FORMAT = \"ISO-8859-1\"\n",
    "INTEGER_VAR_COL_LIST = ['Age', 'NoOfProductsHeld', 'NoOfTxns']\n",
    "FLOAT_VAR_COL_LIST = ['LastTxnAmt', 'AvgTxnAmt']\n",
    "CATEGORY_VAR_COL_LIST = ['Gender', 'County', 'LoanHeldBefore', 'MerCategory', 'IncomeCategory']\n",
    "EDA_PARENT_DIR = \"../eda/\"\n",
    "PREDICTED_DATA_DIR = \"../data/predicted/\"\n",
    "PRE_LOAN_LIKELIHOOD_FILE = PREDICTED_DATA_DIR + \"Predicted_Loan_Likelihoods.csv\""
   ]
  },
  {
   "cell_type": "markdown",
   "metadata": {},
   "source": [
    "## <font color='blue'>Data Load</font>"
   ]
  },
  {
   "cell_type": "code",
   "execution_count": 160,
   "metadata": {},
   "outputs": [],
   "source": [
    "def restore_valid_col_dtypes(df_loan_data):\n",
    "    \"\"\"\n",
    "    Method to restore the column dtypes in the pandas dataframe (as they were converted to 'str' earlier).\n",
    "    :param df_loan_data: A pandas dataframe object containing the data merged from the CSV files.\n",
    "    :return A pandas dataframe object containing all the required columns in cleaned format.\n",
    "    \"\"\"\n",
    "    df_col_list = df_loan_data.columns\n",
    "    for col in INTEGER_VAR_COL_LIST:\n",
    "        df_loan_data[col] = df_loan_data[col].astype(int)\n",
    "\n",
    "    for col in FLOAT_VAR_COL_LIST:\n",
    "        df_loan_data[col] = df_loan_data[col].astype(float)\n",
    "\n",
    "    for col in CATEGORY_VAR_COL_LIST:\n",
    "        if col in df_col_list:\n",
    "            df_loan_data[col] = df_loan_data[col].astype(object)\n",
    "    return df_loan_data\n",
    "\n",
    "\n",
    "def load_data_to_df(data_file_name):\n",
    "    \"\"\"\n",
    "    Method to read the CSV file and load the data into a pandas dataframe.\n",
    "    :param data_file_name: Name of the CSV file which contains the data.\n",
    "    :return: A pandas dataframe object\n",
    "    \"\"\"\n",
    "    input_data = restore_valid_col_dtypes(pd.read_csv(data_file_name, encoding=ENCODING_FORMAT))\n",
    "    return input_data"
   ]
  },
  {
   "cell_type": "markdown",
   "metadata": {},
   "source": [
    "<b>During the first level of pre-processing, we had loaded the data from every CSV file into a separate data frame, processed them individually and then combined them into a unified data frame based on the common column <font color='blue'>Client ID</font>.<br>We repeated the same set of operations on the Training and Testing data, and had written them into separate CSV files. We will now load the data from these newly generated CSV files.</b>"
   ]
  },
  {
   "cell_type": "code",
   "execution_count": 161,
   "metadata": {},
   "outputs": [],
   "source": [
    "# Load the Training & Testing Data\n",
    "df_cleaned_training_data = load_data_to_df(PROC_TRAINING_DATA_FILE)\n",
    "df_cleaned_testing_data = load_data_to_df(PROC_TEST_DATA_FILE)"
   ]
  },
  {
   "cell_type": "code",
   "execution_count": 162,
   "metadata": {
    "scrolled": true
   },
   "outputs": [
    {
     "data": {
      "text/plain": [
       "(10000, 12)"
      ]
     },
     "execution_count": 162,
     "metadata": {},
     "output_type": "execute_result"
    }
   ],
   "source": [
    "df_cleaned_training_data.shape"
   ]
  },
  {
   "cell_type": "code",
   "execution_count": 163,
   "metadata": {},
   "outputs": [
    {
     "data": {
      "text/html": [
       "<div>\n",
       "<style scoped>\n",
       "    .dataframe tbody tr th:only-of-type {\n",
       "        vertical-align: middle;\n",
       "    }\n",
       "\n",
       "    .dataframe tbody tr th {\n",
       "        vertical-align: top;\n",
       "    }\n",
       "\n",
       "    .dataframe thead th {\n",
       "        text-align: right;\n",
       "    }\n",
       "</style>\n",
       "<table border=\"1\" class=\"dataframe\">\n",
       "  <thead>\n",
       "    <tr style=\"text-align: right;\">\n",
       "      <th></th>\n",
       "      <th>ClientID</th>\n",
       "      <th>Age</th>\n",
       "      <th>Gender</th>\n",
       "      <th>County</th>\n",
       "      <th>LoanHeldBefore</th>\n",
       "      <th>NoOfProductsHeld</th>\n",
       "      <th>AvgTxnAmt</th>\n",
       "      <th>NoOfTxns</th>\n",
       "      <th>LastTxnAmt</th>\n",
       "      <th>LoanFlag</th>\n",
       "      <th>IncomeCategory</th>\n",
       "      <th>MerCategory</th>\n",
       "    </tr>\n",
       "  </thead>\n",
       "  <tbody>\n",
       "    <tr>\n",
       "      <th>0</th>\n",
       "      <td>1</td>\n",
       "      <td>36</td>\n",
       "      <td>1</td>\n",
       "      <td>Cork</td>\n",
       "      <td>1</td>\n",
       "      <td>4</td>\n",
       "      <td>58.0</td>\n",
       "      <td>0</td>\n",
       "      <td>NaN</td>\n",
       "      <td>0</td>\n",
       "      <td>Lower Middle</td>\n",
       "      <td>Unknown</td>\n",
       "    </tr>\n",
       "    <tr>\n",
       "      <th>1</th>\n",
       "      <td>2</td>\n",
       "      <td>43</td>\n",
       "      <td>1</td>\n",
       "      <td>Cavan</td>\n",
       "      <td>0</td>\n",
       "      <td>4</td>\n",
       "      <td>2663.0</td>\n",
       "      <td>17</td>\n",
       "      <td>83.66</td>\n",
       "      <td>0</td>\n",
       "      <td>Low</td>\n",
       "      <td>Professional Services</td>\n",
       "    </tr>\n",
       "    <tr>\n",
       "      <th>2</th>\n",
       "      <td>3</td>\n",
       "      <td>32</td>\n",
       "      <td>0</td>\n",
       "      <td>Dublin</td>\n",
       "      <td>0</td>\n",
       "      <td>2</td>\n",
       "      <td>46.0</td>\n",
       "      <td>25</td>\n",
       "      <td>526.18</td>\n",
       "      <td>0</td>\n",
       "      <td>Lower Middle</td>\n",
       "      <td>Accommodation</td>\n",
       "    </tr>\n",
       "    <tr>\n",
       "      <th>3</th>\n",
       "      <td>4</td>\n",
       "      <td>52</td>\n",
       "      <td>1</td>\n",
       "      <td>Louth</td>\n",
       "      <td>1</td>\n",
       "      <td>2</td>\n",
       "      <td>0.0</td>\n",
       "      <td>13</td>\n",
       "      <td>70.68</td>\n",
       "      <td>0</td>\n",
       "      <td>Upper</td>\n",
       "      <td>Hardware</td>\n",
       "    </tr>\n",
       "    <tr>\n",
       "      <th>4</th>\n",
       "      <td>5</td>\n",
       "      <td>63</td>\n",
       "      <td>0</td>\n",
       "      <td>Kilkenny</td>\n",
       "      <td>0</td>\n",
       "      <td>1</td>\n",
       "      <td>126.0</td>\n",
       "      <td>39</td>\n",
       "      <td>259.07</td>\n",
       "      <td>0</td>\n",
       "      <td>Upper Middle</td>\n",
       "      <td>Retail</td>\n",
       "    </tr>\n",
       "  </tbody>\n",
       "</table>\n",
       "</div>"
      ],
      "text/plain": [
       "   ClientID  Age Gender    County LoanHeldBefore  NoOfProductsHeld  AvgTxnAmt  \\\n",
       "0         1   36      1      Cork              1                 4       58.0   \n",
       "1         2   43      1     Cavan              0                 4     2663.0   \n",
       "2         3   32      0    Dublin              0                 2       46.0   \n",
       "3         4   52      1     Louth              1                 2        0.0   \n",
       "4         5   63      0  Kilkenny              0                 1      126.0   \n",
       "\n",
       "   NoOfTxns  LastTxnAmt  LoanFlag IncomeCategory            MerCategory  \n",
       "0         0         NaN         0   Lower Middle                Unknown  \n",
       "1        17       83.66         0            Low  Professional Services  \n",
       "2        25      526.18         0   Lower Middle          Accommodation  \n",
       "3        13       70.68         0          Upper               Hardware  \n",
       "4        39      259.07         0   Upper Middle                 Retail  "
      ]
     },
     "execution_count": 163,
     "metadata": {},
     "output_type": "execute_result"
    }
   ],
   "source": [
    "df_cleaned_training_data.head()"
   ]
  },
  {
   "cell_type": "code",
   "execution_count": 164,
   "metadata": {},
   "outputs": [
    {
     "data": {
      "text/plain": [
       "ClientID              int64\n",
       "Age                   int64\n",
       "Gender               object\n",
       "County               object\n",
       "LoanHeldBefore       object\n",
       "NoOfProductsHeld      int64\n",
       "AvgTxnAmt           float64\n",
       "NoOfTxns              int64\n",
       "LastTxnAmt          float64\n",
       "LoanFlag              int64\n",
       "IncomeCategory       object\n",
       "MerCategory          object\n",
       "dtype: object"
      ]
     },
     "execution_count": 164,
     "metadata": {},
     "output_type": "execute_result"
    }
   ],
   "source": [
    "df_cleaned_training_data.dtypes"
   ]
  },
  {
   "cell_type": "code",
   "execution_count": 165,
   "metadata": {},
   "outputs": [
    {
     "data": {
      "text/plain": [
       "(2000, 11)"
      ]
     },
     "execution_count": 165,
     "metadata": {},
     "output_type": "execute_result"
    }
   ],
   "source": [
    "df_cleaned_testing_data.shape"
   ]
  },
  {
   "cell_type": "code",
   "execution_count": 166,
   "metadata": {},
   "outputs": [
    {
     "data": {
      "text/html": [
       "<div>\n",
       "<style scoped>\n",
       "    .dataframe tbody tr th:only-of-type {\n",
       "        vertical-align: middle;\n",
       "    }\n",
       "\n",
       "    .dataframe tbody tr th {\n",
       "        vertical-align: top;\n",
       "    }\n",
       "\n",
       "    .dataframe thead th {\n",
       "        text-align: right;\n",
       "    }\n",
       "</style>\n",
       "<table border=\"1\" class=\"dataframe\">\n",
       "  <thead>\n",
       "    <tr style=\"text-align: right;\">\n",
       "      <th></th>\n",
       "      <th>ClientID</th>\n",
       "      <th>Age</th>\n",
       "      <th>Gender</th>\n",
       "      <th>County</th>\n",
       "      <th>LoanHeldBefore</th>\n",
       "      <th>NoOfProductsHeld</th>\n",
       "      <th>AvgTxnAmt</th>\n",
       "      <th>NoOfTxns</th>\n",
       "      <th>LastTxnAmt</th>\n",
       "      <th>IncomeCategory</th>\n",
       "      <th>MerCategory</th>\n",
       "    </tr>\n",
       "  </thead>\n",
       "  <tbody>\n",
       "    <tr>\n",
       "      <th>0</th>\n",
       "      <td>10001</td>\n",
       "      <td>59</td>\n",
       "      <td>1</td>\n",
       "      <td>Cork</td>\n",
       "      <td>0</td>\n",
       "      <td>4</td>\n",
       "      <td>22.0</td>\n",
       "      <td>2</td>\n",
       "      <td>12.59</td>\n",
       "      <td>Lower Middle</td>\n",
       "      <td>Professional Services</td>\n",
       "    </tr>\n",
       "    <tr>\n",
       "      <th>1</th>\n",
       "      <td>10002</td>\n",
       "      <td>27</td>\n",
       "      <td>1</td>\n",
       "      <td>Kerry</td>\n",
       "      <td>0</td>\n",
       "      <td>4</td>\n",
       "      <td>11.0</td>\n",
       "      <td>0</td>\n",
       "      <td>30.00</td>\n",
       "      <td>Lower Middle</td>\n",
       "      <td>Transport</td>\n",
       "    </tr>\n",
       "    <tr>\n",
       "      <th>2</th>\n",
       "      <td>10003</td>\n",
       "      <td>58</td>\n",
       "      <td>0</td>\n",
       "      <td>Louth</td>\n",
       "      <td>0</td>\n",
       "      <td>2</td>\n",
       "      <td>9.0</td>\n",
       "      <td>28</td>\n",
       "      <td>1003.01</td>\n",
       "      <td>Lower Middle</td>\n",
       "      <td>Hardware</td>\n",
       "    </tr>\n",
       "    <tr>\n",
       "      <th>3</th>\n",
       "      <td>10004</td>\n",
       "      <td>45</td>\n",
       "      <td>1</td>\n",
       "      <td>Dublin</td>\n",
       "      <td>0</td>\n",
       "      <td>2</td>\n",
       "      <td>34.0</td>\n",
       "      <td>31</td>\n",
       "      <td>873.25</td>\n",
       "      <td>Upper Middle</td>\n",
       "      <td>Accommodation</td>\n",
       "    </tr>\n",
       "    <tr>\n",
       "      <th>4</th>\n",
       "      <td>10005</td>\n",
       "      <td>21</td>\n",
       "      <td>0</td>\n",
       "      <td>Dublin</td>\n",
       "      <td>0</td>\n",
       "      <td>1</td>\n",
       "      <td>38.0</td>\n",
       "      <td>12</td>\n",
       "      <td>926.75</td>\n",
       "      <td>Upper</td>\n",
       "      <td>Accommodation</td>\n",
       "    </tr>\n",
       "  </tbody>\n",
       "</table>\n",
       "</div>"
      ],
      "text/plain": [
       "   ClientID  Age Gender  County LoanHeldBefore  NoOfProductsHeld  AvgTxnAmt  \\\n",
       "0     10001   59      1    Cork              0                 4       22.0   \n",
       "1     10002   27      1   Kerry              0                 4       11.0   \n",
       "2     10003   58      0   Louth              0                 2        9.0   \n",
       "3     10004   45      1  Dublin              0                 2       34.0   \n",
       "4     10005   21      0  Dublin              0                 1       38.0   \n",
       "\n",
       "   NoOfTxns  LastTxnAmt IncomeCategory            MerCategory  \n",
       "0         2       12.59   Lower Middle  Professional Services  \n",
       "1         0       30.00   Lower Middle              Transport  \n",
       "2        28     1003.01   Lower Middle               Hardware  \n",
       "3        31      873.25   Upper Middle          Accommodation  \n",
       "4        12      926.75          Upper          Accommodation  "
      ]
     },
     "execution_count": 166,
     "metadata": {},
     "output_type": "execute_result"
    }
   ],
   "source": [
    "df_cleaned_testing_data.head()"
   ]
  },
  {
   "cell_type": "code",
   "execution_count": 167,
   "metadata": {
    "scrolled": true
   },
   "outputs": [
    {
     "data": {
      "text/plain": [
       "Index(['ClientID', 'Age', 'Gender', 'County', 'LoanHeldBefore',\n",
       "       'NoOfProductsHeld', 'AvgTxnAmt', 'NoOfTxns', 'LastTxnAmt', 'LoanFlag',\n",
       "       'IncomeCategory', 'MerCategory'],\n",
       "      dtype='object')"
      ]
     },
     "execution_count": 167,
     "metadata": {},
     "output_type": "execute_result"
    }
   ],
   "source": [
    "df_cleaned_training_data.columns"
   ]
  },
  {
   "cell_type": "code",
   "execution_count": 168,
   "metadata": {},
   "outputs": [
    {
     "data": {
      "text/plain": [
       "Index(['ClientID', 'Age', 'Gender', 'County', 'LoanHeldBefore',\n",
       "       'NoOfProductsHeld', 'AvgTxnAmt', 'NoOfTxns', 'LastTxnAmt',\n",
       "       'IncomeCategory', 'MerCategory'],\n",
       "      dtype='object')"
      ]
     },
     "execution_count": 168,
     "metadata": {},
     "output_type": "execute_result"
    }
   ],
   "source": [
    "df_cleaned_testing_data.columns"
   ]
  },
  {
   "cell_type": "markdown",
   "metadata": {},
   "source": [
    "<b>Some of the key highlights at this stage:\n",
    " - There are <font color='blue'>10000 observations</font> in our Training set, described by <font color='blue'>12 data points/features</font>.\n",
    " - There are <font color='blue'>2000 observations</font> in our Testing set, described by <font color='blue'>11 data points/features</font>.\n",
    " - The columns in our Training and Testing sets are the same, except for the extra column <font color='blue'>'LoanFlag'</font> in our Training set which <font color='blue'>is our target variable</font>.</b>"
   ]
  },
  {
   "cell_type": "markdown",
   "metadata": {},
   "source": [
    "## <font color='blue'>Exploratory Data Analysis</font>"
   ]
  },
  {
   "cell_type": "code",
   "execution_count": 169,
   "metadata": {
    "scrolled": true
   },
   "outputs": [
    {
     "data": {
      "image/png": "[encoded data removed]",
      "text/plain": [
       "<Figure size 648x288 with 1 Axes>"
      ]
     },
     "metadata": {
      "needs_background": "light"
     },
     "output_type": "display_data"
    }
   ],
   "source": [
    "new_df = pd.DataFrame(df_cleaned_training_data['IncomeCategory'].value_counts())\n",
    "# Import the required libraries to plot the graphs\n",
    "import matplotlib, pylab\n",
    "import matplotlib.pyplot as plt\n",
    "%matplotlib inline\n",
    "\n",
    "# Set the corresponding positions on the y-axis\n",
    "y_pos = range(len(new_df.index.values))\n",
    "\n",
    "# Create a new figure & set the canvas size\n",
    "plt.figure(figsize=(9,4))\n",
    "\n",
    "# Plot the bar chart\n",
    "bars = plt.bar(y_pos, new_df['IncomeCategory'], align='center', color='green')\n",
    "plt.xticks(y_pos, new_df.index.values)\n",
    "plt.xlabel(\"Income Category\", fontsize=16)\n",
    "plt.ylabel(\"No. of Customers\", fontsize=16)\n",
    "plt.title(\"No. of Customers per Income Catgeory\", fontsize=18)\n",
    "plt.savefig(EDA_PARENT_DIR + 'Customers_per_IncomeCategory.png')"
   ]
  },
  {
   "cell_type": "code",
   "execution_count": 170,
   "metadata": {},
   "outputs": [
    {
     "data": {
      "image/png": "[encoded data removed]",
      "text/plain": [
       "<Figure size 576x288 with 1 Axes>"
      ]
     },
     "metadata": {
      "needs_background": "light"
     },
     "output_type": "display_data"
    }
   ],
   "source": [
    "df_county = df_cleaned_training_data[['ClientID', 'County']].copy()\n",
    "df_county = df_county.groupby('County').count()\n",
    "fig = df_county[\"ClientID\"].plot(title=\"Number Of Customers Per County\", figsize=(8,4), color='red').get_figure()\n",
    "fig.savefig(EDA_PARENT_DIR + 'Customers_per_County.png')"
   ]
  },
  {
   "cell_type": "markdown",
   "metadata": {},
   "source": [
    "## <font color='green'>Part 1 - Business Intelligence</font>"
   ]
  },
  {
   "cell_type": "markdown",
   "metadata": {},
   "source": [
    "<b><font color='blue'>1. How Many Customers above 50 years old have taken up a loan?</font></b>"
   ]
  },
  {
   "cell_type": "code",
   "execution_count": 171,
   "metadata": {},
   "outputs": [
    {
     "data": {
      "text/plain": [
       "98"
      ]
     },
     "execution_count": 171,
     "metadata": {},
     "output_type": "execute_result"
    }
   ],
   "source": [
    "df_cleaned_training_data[(df_cleaned_training_data.Age > 50) & (df_cleaned_training_data.LoanFlag == 1)].shape[0]"
   ]
  },
  {
   "cell_type": "markdown",
   "metadata": {},
   "source": [
    "<b><font color='blue'>2. How Many Females aged 30 to 40 have more than 2 products?</font></b>"
   ]
  },
  {
   "cell_type": "code",
   "execution_count": 172,
   "metadata": {},
   "outputs": [
    {
     "data": {
      "text/plain": [
       "622"
      ]
     },
     "execution_count": 172,
     "metadata": {},
     "output_type": "execute_result"
    }
   ],
   "source": [
    "df_cleaned_training_data[(df_cleaned_training_data.Gender == 0) & (df_cleaned_training_data.Age >= 30) & \\\n",
    "                         (df_cleaned_training_data.Age <= 40) & (df_cleaned_training_data.NoOfProductsHeld > 2)].shape[0]"
   ]
  },
  {
   "cell_type": "markdown",
   "metadata": {},
   "source": [
    "<b><font color='blue'>3. What is the average number of Current Account (CA) Transactions for males who had previous Loans?</font></b>"
   ]
  },
  {
   "cell_type": "markdown",
   "metadata": {},
   "source": [
    "<b>The obtained mean value is rounded up to the nearest integer not smaller than the actual value, using the ceil function.</b>"
   ]
  },
  {
   "cell_type": "code",
   "execution_count": 173,
   "metadata": {},
   "outputs": [
    {
     "data": {
      "text/plain": [
       "19"
      ]
     },
     "execution_count": 173,
     "metadata": {},
     "output_type": "execute_result"
    }
   ],
   "source": [
    "df_males_with_previous_loans = df_cleaned_training_data[(df_cleaned_training_data.Gender == 1) & \\\n",
    "                                                        (df_cleaned_training_data.LoanHeldBefore == 1)]\n",
    "math.ceil(df_males_with_previous_loans['NoOfTxns'].mean())"
   ]
  },
  {
   "cell_type": "markdown",
   "metadata": {},
   "source": [
    "<b><font color='blue'>4. How many females did not have previous loans and who are aged:\n",
    "- Less than 20\n",
    "- 21 to 40\n",
    "- 40+\n",
    "</font></b>"
   ]
  },
  {
   "cell_type": "code",
   "execution_count": 174,
   "metadata": {},
   "outputs": [
    {
     "name": "stdout",
     "output_type": "stream",
     "text": [
      "Age less than 20: 0\n",
      "Age between 21 and 40: 1534\n",
      "Age above 40: 2003\n"
     ]
    }
   ],
   "source": [
    "df_females_without_previous_loans = df_cleaned_training_data[(df_cleaned_training_data.Gender == 0) & \\\n",
    "                                                             (df_cleaned_training_data.LoanHeldBefore == 0)]\n",
    "print(\"Age less than 20:\", df_females_without_previous_loans[(df_females_without_previous_loans.Age < 20)].shape[0])\n",
    "print(\"Age between 21 and 40:\", df_females_without_previous_loans[(df_females_without_previous_loans.Age >= 21) & \\\n",
    "                                                                  (df_females_without_previous_loans.Age <= 40)].shape[0])\n",
    "print(\"Age above 40:\", df_females_without_previous_loans[(df_females_without_previous_loans.Age > 40)].shape[0])"
   ]
  },
  {
   "cell_type": "markdown",
   "metadata": {},
   "source": [
    "## <font color='green'>Part 2 - Predictive Modelling</font>"
   ]
  },
  {
   "cell_type": "markdown",
   "metadata": {},
   "source": [
    "### <font color='red'>2.1. Optimizing the Problem Statement</font>"
   ]
  },
  {
   "cell_type": "markdown",
   "metadata": {},
   "source": [
    "<b>We consider the target variable representation as follows:<br>\n",
    "    <font color='blue'>0</font> - Target variable representing the Customers who <font color='blue'>Did Not Avail a Loan</font><br> <font color='blue'>1</font> - Target variable representing the Customers who <font color='blue'>Availed a Loan.</font><br><br>\n",
    "This helps us infer that we have a <font color='blue'>Binary Classification</font> problem at hand.\n",
    "</b>"
   ]
  },
  {
   "cell_type": "code",
   "execution_count": 175,
   "metadata": {},
   "outputs": [
    {
     "data": {
      "text/plain": [
       "array([0, 1])"
      ]
     },
     "execution_count": 175,
     "metadata": {},
     "output_type": "execute_result"
    }
   ],
   "source": [
    "# Values of the target variable - Identiying Class Labels\n",
    "df_cleaned_training_data.LoanFlag.unique()"
   ]
  },
  {
   "cell_type": "markdown",
   "metadata": {},
   "source": [
    "### <font color='red'>2.2. Dropping Irrelvant Columns & Rows</font>\n",
    "<b>We start by eliminating all those columns and rows in our dataframe, that either do not add any value to our predictions or might be noise in the data. We would also drop the columns that contain extensively high null values or unique values.</b>"
   ]
  },
  {
   "cell_type": "code",
   "execution_count": 176,
   "metadata": {},
   "outputs": [],
   "source": [
    "def drop_noise_data(df_loan_data):\n",
    "    # Drop the ID column, as it is not required for predictions\n",
    "    df_loan_data.drop(['ClientID'], axis = 1, inplace = True)\n",
    "    \n",
    "    # Any observation with County value \"Outside ROI\" can be dropped off, as our focus is on ROI\n",
    "    df_loan_data.drop(df_loan_data[df_loan_data['County'] == \"Outside ROI\"].index, inplace=True)\n",
    "    \n",
    "    # Drop observations for which LoanHeldBefore value is unknown (-1)\n",
    "    df_loan_data.drop(df_loan_data[df_loan_data['LoanHeldBefore'] == -1].index, inplace=True)\n",
    "    \n",
    "    return df_loan_data"
   ]
  },
  {
   "cell_type": "code",
   "execution_count": 177,
   "metadata": {},
   "outputs": [],
   "source": [
    "df_cleaned_training_data = drop_noise_data(df_cleaned_training_data)"
   ]
  },
  {
   "cell_type": "markdown",
   "metadata": {},
   "source": [
    "<b>Since we also have our testing set ready, we store the ID column separately for future use.</b>"
   ]
  },
  {
   "cell_type": "code",
   "execution_count": 178,
   "metadata": {},
   "outputs": [],
   "source": [
    "test_data_id_list = df_cleaned_testing_data['ClientID'].tolist()\n",
    "df_cleaned_testing_data = drop_noise_data(df_cleaned_testing_data)"
   ]
  },
  {
   "cell_type": "markdown",
   "metadata": {},
   "source": [
    "### <font color='red'>2.3. Balancing Target Classes</font>\n",
    "<b>A major step before building the predictive model is balancing the classes (target variables). We can see below that the number of observations with the class label <font color='blue'><i>0</i></font> are much more than the number of observations with the class label <font color='blue'><i>1</i></font>. This implies that the problem of <font color='blue'><i>class imbalance</i></font> exists in our training set.</b>"
   ]
  },
  {
   "cell_type": "code",
   "execution_count": 179,
   "metadata": {},
   "outputs": [
    {
     "data": {
      "text/plain": [
       "0    9764\n",
       "1     211\n",
       "Name: LoanFlag, dtype: int64"
      ]
     },
     "execution_count": 179,
     "metadata": {},
     "output_type": "execute_result"
    }
   ],
   "source": [
    "df_cleaned_training_data.LoanFlag.value_counts()"
   ]
  },
  {
   "cell_type": "code",
   "execution_count": 180,
   "metadata": {},
   "outputs": [
    {
     "data": {
      "text/plain": [
       "<matplotlib.axes._subplots.AxesSubplot at 0x1a242d2828>"
      ]
     },
     "execution_count": 180,
     "metadata": {},
     "output_type": "execute_result"
    },
    {
     "data": {
      "image/png": "[encoded data removed]",
      "text/plain": [
       "<Figure size 432x288 with 1 Axes>"
      ]
     },
     "metadata": {
      "needs_background": "light"
     },
     "output_type": "display_data"
    }
   ],
   "source": [
    "# Check for class imbalance\n",
    "df_cleaned_training_data.LoanFlag.value_counts().plot.barh(color='orange')"
   ]
  },
  {
   "cell_type": "markdown",
   "metadata": {},
   "source": [
    "<b>Imbalanced data typically refers to a situation in classification problems, where the target classes are not represented equally in a dataset. In such cases, the output of the classification model would be biased and most often, the model always ends up predicting the majority class.<br>To handle this, some of the best possible approaches used are <font color='blue'>undersampling the majority class</font> or <font color='blue'>oversampling the minority class</font>.<br><br>In our case, we will proceed by oversampling the minority class, mainly because undersampling the majority class there is extensive data loss which would leave us with very few observations to train the model.<b>"
   ]
  },
  {
   "cell_type": "code",
   "execution_count": 181,
   "metadata": {},
   "outputs": [
    {
     "data": {
      "text/plain": [
       "1    9764\n",
       "0    9764\n",
       "Name: LoanFlag, dtype: int64"
      ]
     },
     "execution_count": 181,
     "metadata": {},
     "output_type": "execute_result"
    }
   ],
   "source": [
    "# Separate majority and minority classes\n",
    "majority_class_data = df_cleaned_training_data[df_cleaned_training_data.LoanFlag==0]\n",
    "minority_class_data = df_cleaned_training_data[df_cleaned_training_data.LoanFlag==1]\n",
    " \n",
    "# Oversample minority class\n",
    "minority_class_data_upsampled = resample(minority_class_data, \n",
    "                                 replace=True,     # sample with replacement\n",
    "                                 n_samples=majority_class_data.shape[0],    # match majority class\n",
    "                                 random_state=123)\n",
    " \n",
    "# Combine majority class with upsampled minority class\n",
    "balanced_loan_dataset = pd.concat([majority_class_data, minority_class_data_upsampled])\n",
    " \n",
    "# Display new class counts\n",
    "balanced_loan_dataset.LoanFlag.value_counts()"
   ]
  },
  {
   "cell_type": "markdown",
   "metadata": {},
   "source": [
    "### <font color='red'>2.4. Data Split - Training & Validation Sets</font>\n",
    "<b>Next, we split out training data into training and validations sets. We use a 75-25 split here, i.e., 75% of the data for Training and 25% for Validation.</b>"
   ]
  },
  {
   "cell_type": "code",
   "execution_count": 182,
   "metadata": {},
   "outputs": [],
   "source": [
    "X = balanced_loan_dataset.drop('LoanFlag', axis=1)\n",
    "y = balanced_loan_dataset['LoanFlag']"
   ]
  },
  {
   "cell_type": "code",
   "execution_count": 183,
   "metadata": {},
   "outputs": [],
   "source": [
    "X_train, X_val, y_train, y_val = train_test_split(X, y, test_size=0.3)"
   ]
  },
  {
   "cell_type": "markdown",
   "metadata": {},
   "source": [
    "### <font color='red'>2.5. Data Preprocessing Pipeline</font>\n",
    "<b>Here, we define the data steps for pre-processing our data.<br>\n",
    "- For numerical variables we use replace the mising values with the <font color='blue'><i>mean</i></font> of the column.\n",
    "- For categorical variables, we fill the value <font color='blue'><i>Unknown</i></font> for any missing values.</b>"
   ]
  },
  {
   "cell_type": "code",
   "execution_count": 184,
   "metadata": {},
   "outputs": [],
   "source": [
    "# As the first step, we separate the numerical and categorical features into two lists.\n",
    "numeric_features = balanced_loan_dataset.select_dtypes(include=['int64', 'float64']).drop(['LoanFlag'], \n",
    "                                                                                          axis=1).columns\n",
    "categorical_features = balanced_loan_dataset.select_dtypes(include=['object']).columns"
   ]
  },
  {
   "cell_type": "code",
   "execution_count": 185,
   "metadata": {},
   "outputs": [],
   "source": [
    "# Build the inidvidual pieplines for each set of features\n",
    "num_col_transformer = Pipeline(steps=[('imputer', SimpleImputer(strategy='mean')), \n",
    "                                          ('scaler', MinMaxScaler())])\n",
    "categ_col_transformer = Pipeline(steps=[('imputer', SimpleImputer(strategy='constant', fill_value='Unknown')), \n",
    "                                              ('onehot', OneHotEncoder(handle_unknown='ignore'))])"
   ]
  },
  {
   "cell_type": "code",
   "execution_count": 186,
   "metadata": {},
   "outputs": [],
   "source": [
    "# Get the ColumnTransformer object to apply the transformation steps to the columns/features\n",
    "loan_data_preprocessor = ColumnTransformer(transformers=[('num', num_col_transformer, numeric_features), \n",
    "                                          ('cat', categ_col_transformer, categorical_features)])"
   ]
  },
  {
   "cell_type": "markdown",
   "metadata": {},
   "source": [
    "### <font color='red'>2.6. Feature Selection</font>\n",
    "<b><font color='blue'>Curse of dimensionality</font> is a phenomenon which causes different machine learning algorithms to perform with poor accuracy levels on high-dimensional data. It is extrememly important to select the best features that would contribute well to our prediction models. If not done, it could lead to overfitting and also increase the costs of computation. We use <font color='blue'><i>RandomForestClassifier</font></i> to get the best features.</b>"
   ]
  },
  {
   "cell_type": "code",
   "execution_count": 187,
   "metadata": {},
   "outputs": [],
   "source": [
    "loan_data_feature_selector = SelectFromModel(RandomForestClassifier(n_estimators = 200))"
   ]
  },
  {
   "cell_type": "markdown",
   "metadata": {},
   "source": [
    "### <font color='red'>2.7. Model Selection</font>\n",
    "<b>Ideally in this step, we create a list of a varierty of Classification algorithms which, in theory, would suit our data best. We then compare the performance of the models using different metrics, revisit our data and finalize the algorithm to build our model.<br>However, this step requires considerable amount of time and compute power to yield good results. Based on extensive reading and literature survey, I figured out that <font color='blue'>Logistic Regression</font> is one of the most common methods used for building propensity models. As such, I have used the same to build my model.</b>"
   ]
  },
  {
   "cell_type": "code",
   "execution_count": 188,
   "metadata": {},
   "outputs": [
    {
     "data": {
      "text/plain": [
       "LogisticRegression(C=1.0, class_weight=None, dual=False, fit_intercept=True,\n",
       "                   intercept_scaling=1, l1_ratio=None, max_iter=100,\n",
       "                   multi_class='warn', n_jobs=None, penalty='l2',\n",
       "                   random_state=None, solver='warn', tol=0.0001, verbose=0,\n",
       "                   warm_start=False)"
      ]
     },
     "execution_count": 188,
     "metadata": {},
     "output_type": "execute_result"
    }
   ],
   "source": [
    "# Build a simple classifier using the default parameters\n",
    "loan_data_classifer = LogisticRegression()\n",
    "loan_data_classifer"
   ]
  },
  {
   "cell_type": "markdown",
   "metadata": {},
   "source": [
    "### <font color='red'>2.8. Data Pipeline</font>\n",
    "<b>Now, we build the data pipeline which would help us apply all the required steps (Pre-processing, Feature Selection and Prediction) sequentially on our data.</b>"
   ]
  },
  {
   "cell_type": "code",
   "execution_count": 189,
   "metadata": {},
   "outputs": [],
   "source": [
    "loan_data_pipeline = Pipeline(steps=[('preprocessor', loan_data_preprocessor), \n",
    "                                     ('feat_select', loan_data_feature_selector), \n",
    "                                     ('classifier', loan_data_classifer)])"
   ]
  },
  {
   "cell_type": "markdown",
   "metadata": {},
   "source": [
    "### <font color='red'>2.9. Cross Validation</font>\n",
    "<b>We first use the data pipeline to fit our training data and preidct the outcomes on our validation set. This would give us the initial accuracy score.</b>"
   ]
  },
  {
   "cell_type": "code",
   "execution_count": 190,
   "metadata": {},
   "outputs": [
    {
     "name": "stdout",
     "output_type": "stream",
     "text": [
      "Model Accuracy before Cross Validation:  96.057 %\n"
     ]
    },
    {
     "name": "stderr",
     "output_type": "stream",
     "text": [
      "/Users/shyammk/anaconda3/lib/python3.7/site-packages/sklearn/linear_model/logistic.py:432: FutureWarning: Default solver will be changed to 'lbfgs' in 0.22. Specify a solver to silence this warning.\n",
      "  FutureWarning)\n"
     ]
    }
   ],
   "source": [
    "loan_data_pipeline.fit(X_train, y_train)\n",
    "y_pred = loan_data_pipeline.predict(X_val)\n",
    "model_accuracy_score = round(accuracy_score(y_val, y_pred)*100, 3)\n",
    "print(\"Model Accuracy before Cross Validation: \", model_accuracy_score, \"%\")"
   ]
  },
  {
   "cell_type": "markdown",
   "metadata": {},
   "source": [
    "<b>However, it is important that we perform cross validation to avoid overfitting and test the generalizability of the model. We use the k-fold cross validation technique, with k=10, and calculate the mean accuracy score.</b>"
   ]
  },
  {
   "cell_type": "code",
   "execution_count": 191,
   "metadata": {
    "scrolled": true
   },
   "outputs": [
    {
     "name": "stderr",
     "output_type": "stream",
     "text": [
      "/Users/shyammk/anaconda3/lib/python3.7/site-packages/sklearn/linear_model/logistic.py:432: FutureWarning: Default solver will be changed to 'lbfgs' in 0.22. Specify a solver to silence this warning.\n",
      "  FutureWarning)\n",
      "/Users/shyammk/anaconda3/lib/python3.7/site-packages/sklearn/linear_model/logistic.py:432: FutureWarning: Default solver will be changed to 'lbfgs' in 0.22. Specify a solver to silence this warning.\n",
      "  FutureWarning)\n",
      "/Users/shyammk/anaconda3/lib/python3.7/site-packages/sklearn/linear_model/logistic.py:432: FutureWarning: Default solver will be changed to 'lbfgs' in 0.22. Specify a solver to silence this warning.\n",
      "  FutureWarning)\n",
      "/Users/shyammk/anaconda3/lib/python3.7/site-packages/sklearn/linear_model/logistic.py:432: FutureWarning: Default solver will be changed to 'lbfgs' in 0.22. Specify a solver to silence this warning.\n",
      "  FutureWarning)\n",
      "/Users/shyammk/anaconda3/lib/python3.7/site-packages/sklearn/linear_model/logistic.py:432: FutureWarning: Default solver will be changed to 'lbfgs' in 0.22. Specify a solver to silence this warning.\n",
      "  FutureWarning)\n",
      "/Users/shyammk/anaconda3/lib/python3.7/site-packages/sklearn/linear_model/logistic.py:432: FutureWarning: Default solver will be changed to 'lbfgs' in 0.22. Specify a solver to silence this warning.\n",
      "  FutureWarning)\n",
      "/Users/shyammk/anaconda3/lib/python3.7/site-packages/sklearn/linear_model/logistic.py:432: FutureWarning: Default solver will be changed to 'lbfgs' in 0.22. Specify a solver to silence this warning.\n",
      "  FutureWarning)\n",
      "/Users/shyammk/anaconda3/lib/python3.7/site-packages/sklearn/linear_model/logistic.py:432: FutureWarning: Default solver will be changed to 'lbfgs' in 0.22. Specify a solver to silence this warning.\n",
      "  FutureWarning)\n",
      "/Users/shyammk/anaconda3/lib/python3.7/site-packages/sklearn/linear_model/logistic.py:432: FutureWarning: Default solver will be changed to 'lbfgs' in 0.22. Specify a solver to silence this warning.\n",
      "  FutureWarning)\n",
      "/Users/shyammk/anaconda3/lib/python3.7/site-packages/sklearn/linear_model/logistic.py:432: FutureWarning: Default solver will be changed to 'lbfgs' in 0.22. Specify a solver to silence this warning.\n",
      "  FutureWarning)\n"
     ]
    }
   ],
   "source": [
    "mean_model_accuracy_score = round((np.mean((cross_val_score(loan_data_pipeline, X, y, cv=10)) * 100)), 3)"
   ]
  },
  {
   "cell_type": "code",
   "execution_count": 192,
   "metadata": {},
   "outputs": [
    {
     "name": "stdout",
     "output_type": "stream",
     "text": [
      "Model Accuracy after Cross Validation:  96.185 %\n"
     ]
    }
   ],
   "source": [
    "print(\"Model Accuracy after Cross Validation: \", mean_model_accuracy_score, \"%\")"
   ]
  },
  {
   "cell_type": "code",
   "execution_count": 193,
   "metadata": {},
   "outputs": [
    {
     "data": {
      "image/png": "[encoded data removed]",
      "text/plain": [
       "<Figure size 432x288 with 1 Axes>"
      ]
     },
     "metadata": {
      "needs_background": "light"
     },
     "output_type": "display_data"
    }
   ],
   "source": [
    "# Calculate the False Positive Rate and True Positive Rate\n",
    "fp_rate, tp_rate, threshold = metrics.roc_curve(y_val, y_pred)\n",
    "auc_value = metrics.auc(fp_rate, tp_rate)\n",
    "\n",
    "# method I: plt\n",
    "import matplotlib.pyplot as plt\n",
    "plt.title('Receiver Operating Characteristic Curve')\n",
    "plt.plot(fp_rate, tp_rate, 'b', label = 'AUC = %0.2f' % auc_value)\n",
    "plt.legend(loc = 'lower right')\n",
    "plt.plot([0, 1], [0, 1],'r--')\n",
    "plt.xlim([0, 1])\n",
    "plt.ylim([0, 1])\n",
    "plt.ylabel('True Positive Rate')\n",
    "plt.xlabel('False Positive Rate')\n",
    "plt.show()"
   ]
  },
  {
   "cell_type": "markdown",
   "metadata": {},
   "source": [
    "### <font color='red'>2.10. Performance Tuning</font>\n",
    "<b>Machine learning models are parameterized so that their behavior can be tuned for a given problem. Here, using <font color='blue'><i>Exhaustive Grid Search</i></font>, we find the fine-tuned parameters for each classifier model being built. It is an approach to parameter tuning that will methodically build and evaluate a model for each combination of algorithm parameters specified in a grid.</b>"
   ]
  },
  {
   "cell_type": "code",
   "execution_count": 194,
   "metadata": {},
   "outputs": [],
   "source": [
    "# Function to return the fine-tuned parameters for the classifier\n",
    "def get_tuned_classifier(classifier_model, parameter_grid):\n",
    "    grid_search_classifier = GridSearchCV(classifier_model, parameter_grid, scoring='accuracy', verbose=1000, cv=10)\n",
    "    grid_search_classifier = grid_search_classifier.fit(X_train, y_train)\n",
    "    return grid_search_classifier"
   ]
  },
  {
   "cell_type": "code",
   "execution_count": 195,
   "metadata": {},
   "outputs": [
    {
     "name": "stdout",
     "output_type": "stream",
     "text": [
      "Fitting 10 folds for each of 6 candidates, totalling 60 fits\n",
      "[Parallel(n_jobs=1)]: Using backend SequentialBackend with 1 concurrent workers.\n",
      "[CV] classifier__C=0.01, classifier__penalty=l1, classifier__solver=liblinear \n",
      "[CV]  classifier__C=0.01, classifier__penalty=l1, classifier__solver=liblinear, score=0.959, total=   5.5s\n",
      "[Parallel(n_jobs=1)]: Done   1 out of   1 | elapsed:    5.5s remaining:    0.0s\n",
      "[CV] classifier__C=0.01, classifier__penalty=l1, classifier__solver=liblinear \n",
      "[CV]  classifier__C=0.01, classifier__penalty=l1, classifier__solver=liblinear, score=0.949, total=   5.4s\n",
      "[Parallel(n_jobs=1)]: Done   2 out of   2 | elapsed:   10.9s remaining:    0.0s\n",
      "[CV] classifier__C=0.01, classifier__penalty=l1, classifier__solver=liblinear \n",
      "[CV]  classifier__C=0.01, classifier__penalty=l1, classifier__solver=liblinear, score=0.955, total=   8.1s\n",
      "[Parallel(n_jobs=1)]: Done   3 out of   3 | elapsed:   19.1s remaining:    0.0s\n",
      "[CV] classifier__C=0.01, classifier__penalty=l1, classifier__solver=liblinear \n",
      "[CV]  classifier__C=0.01, classifier__penalty=l1, classifier__solver=liblinear, score=0.961, total=   7.4s\n",
      "[Parallel(n_jobs=1)]: Done   4 out of   4 | elapsed:   26.4s remaining:    0.0s\n",
      "[CV] classifier__C=0.01, classifier__penalty=l1, classifier__solver=liblinear \n",
      "[CV]  classifier__C=0.01, classifier__penalty=l1, classifier__solver=liblinear, score=0.961, total=   9.9s\n",
      "[Parallel(n_jobs=1)]: Done   5 out of   5 | elapsed:   36.4s remaining:    0.0s\n",
      "[CV] classifier__C=0.01, classifier__penalty=l1, classifier__solver=liblinear \n",
      "[CV]  classifier__C=0.01, classifier__penalty=l1, classifier__solver=liblinear, score=0.956, total=   9.0s\n",
      "[Parallel(n_jobs=1)]: Done   6 out of   6 | elapsed:   45.4s remaining:    0.0s\n",
      "[CV] classifier__C=0.01, classifier__penalty=l1, classifier__solver=liblinear \n",
      "[CV]  classifier__C=0.01, classifier__penalty=l1, classifier__solver=liblinear, score=0.960, total=   8.7s\n",
      "[Parallel(n_jobs=1)]: Done   7 out of   7 | elapsed:   54.1s remaining:    0.0s\n",
      "[CV] classifier__C=0.01, classifier__penalty=l1, classifier__solver=liblinear \n",
      "[CV]  classifier__C=0.01, classifier__penalty=l1, classifier__solver=liblinear, score=0.957, total=   9.2s\n",
      "[Parallel(n_jobs=1)]: Done   8 out of   8 | elapsed:  1.1min remaining:    0.0s\n",
      "[CV] classifier__C=0.01, classifier__penalty=l1, classifier__solver=liblinear \n",
      "[CV]  classifier__C=0.01, classifier__penalty=l1, classifier__solver=liblinear, score=0.941, total=   7.5s\n",
      "[Parallel(n_jobs=1)]: Done   9 out of   9 | elapsed:  1.2min remaining:    0.0s\n",
      "[CV] classifier__C=0.01, classifier__penalty=l1, classifier__solver=liblinear \n",
      "[CV]  classifier__C=0.01, classifier__penalty=l1, classifier__solver=liblinear, score=0.951, total=   6.9s\n",
      "[Parallel(n_jobs=1)]: Done  10 out of  10 | elapsed:  1.3min remaining:    0.0s\n",
      "[CV] classifier__C=0.01, classifier__penalty=l2, classifier__solver=liblinear \n",
      "[CV]  classifier__C=0.01, classifier__penalty=l2, classifier__solver=liblinear, score=0.914, total=   6.7s\n",
      "[Parallel(n_jobs=1)]: Done  11 out of  11 | elapsed:  1.4min remaining:    0.0s\n",
      "[CV] classifier__C=0.01, classifier__penalty=l2, classifier__solver=liblinear \n",
      "[CV]  classifier__C=0.01, classifier__penalty=l2, classifier__solver=liblinear, score=0.901, total=   6.5s\n",
      "[Parallel(n_jobs=1)]: Done  12 out of  12 | elapsed:  1.5min remaining:    0.0s\n",
      "[CV] classifier__C=0.01, classifier__penalty=l2, classifier__solver=liblinear \n",
      "[CV]  classifier__C=0.01, classifier__penalty=l2, classifier__solver=liblinear, score=0.914, total=   8.6s\n",
      "[Parallel(n_jobs=1)]: Done  13 out of  13 | elapsed:  1.7min remaining:    0.0s\n",
      "[CV] classifier__C=0.01, classifier__penalty=l2, classifier__solver=liblinear \n",
      "[CV]  classifier__C=0.01, classifier__penalty=l2, classifier__solver=liblinear, score=0.920, total=  10.0s\n",
      "[Parallel(n_jobs=1)]: Done  14 out of  14 | elapsed:  1.8min remaining:    0.0s\n",
      "[CV] classifier__C=0.01, classifier__penalty=l2, classifier__solver=liblinear \n",
      "[CV]  classifier__C=0.01, classifier__penalty=l2, classifier__solver=liblinear, score=0.924, total=   6.8s\n",
      "[Parallel(n_jobs=1)]: Done  15 out of  15 | elapsed:  1.9min remaining:    0.0s\n",
      "[CV] classifier__C=0.01, classifier__penalty=l2, classifier__solver=liblinear \n",
      "[CV]  classifier__C=0.01, classifier__penalty=l2, classifier__solver=liblinear, score=0.914, total=   7.5s\n",
      "[Parallel(n_jobs=1)]: Done  16 out of  16 | elapsed:  2.1min remaining:    0.0s\n",
      "[CV] classifier__C=0.01, classifier__penalty=l2, classifier__solver=liblinear \n",
      "[CV]  classifier__C=0.01, classifier__penalty=l2, classifier__solver=liblinear, score=0.924, total=  10.2s\n",
      "[Parallel(n_jobs=1)]: Done  17 out of  17 | elapsed:  2.2min remaining:    0.0s\n",
      "[CV] classifier__C=0.01, classifier__penalty=l2, classifier__solver=liblinear \n",
      "[CV]  classifier__C=0.01, classifier__penalty=l2, classifier__solver=liblinear, score=0.929, total=  10.0s\n",
      "[Parallel(n_jobs=1)]: Done  18 out of  18 | elapsed:  2.4min remaining:    0.0s\n",
      "[CV] classifier__C=0.01, classifier__penalty=l2, classifier__solver=liblinear \n",
      "[CV]  classifier__C=0.01, classifier__penalty=l2, classifier__solver=liblinear, score=0.916, total=   8.9s\n",
      "[Parallel(n_jobs=1)]: Done  19 out of  19 | elapsed:  2.5min remaining:    0.0s\n",
      "[CV] classifier__C=0.01, classifier__penalty=l2, classifier__solver=liblinear \n",
      "[CV]  classifier__C=0.01, classifier__penalty=l2, classifier__solver=liblinear, score=0.916, total=   9.5s\n",
      "[Parallel(n_jobs=1)]: Done  20 out of  20 | elapsed:  2.7min remaining:    0.0s\n",
      "[CV] classifier__C=0.1, classifier__penalty=l1, classifier__solver=liblinear \n",
      "[CV]  classifier__C=0.1, classifier__penalty=l1, classifier__solver=liblinear, score=0.961, total=   8.8s\n",
      "[Parallel(n_jobs=1)]: Done  21 out of  21 | elapsed:  2.9min remaining:    0.0s\n",
      "[CV] classifier__C=0.1, classifier__penalty=l1, classifier__solver=liblinear \n",
      "[CV]  classifier__C=0.1, classifier__penalty=l1, classifier__solver=liblinear, score=0.952, total=   9.4s\n",
      "[Parallel(n_jobs=1)]: Done  22 out of  22 | elapsed:  3.0min remaining:    0.0s\n",
      "[CV] classifier__C=0.1, classifier__penalty=l1, classifier__solver=liblinear \n",
      "[CV]  classifier__C=0.1, classifier__penalty=l1, classifier__solver=liblinear, score=0.962, total=   8.6s\n",
      "[Parallel(n_jobs=1)]: Done  23 out of  23 | elapsed:  3.2min remaining:    0.0s\n",
      "[CV] classifier__C=0.1, classifier__penalty=l1, classifier__solver=liblinear \n",
      "[CV]  classifier__C=0.1, classifier__penalty=l1, classifier__solver=liblinear, score=0.968, total=   8.8s\n",
      "[Parallel(n_jobs=1)]: Done  24 out of  24 | elapsed:  3.3min remaining:    0.0s\n",
      "[CV] classifier__C=0.1, classifier__penalty=l1, classifier__solver=liblinear \n",
      "[CV]  classifier__C=0.1, classifier__penalty=l1, classifier__solver=liblinear, score=0.969, total=   7.5s\n",
      "[Parallel(n_jobs=1)]: Done  25 out of  25 | elapsed:  3.4min remaining:    0.0s\n",
      "[CV] classifier__C=0.1, classifier__penalty=l1, classifier__solver=liblinear \n",
      "[CV]  classifier__C=0.1, classifier__penalty=l1, classifier__solver=liblinear, score=0.966, total=   7.6s\n",
      "[Parallel(n_jobs=1)]: Done  26 out of  26 | elapsed:  3.6min remaining:    0.0s\n",
      "[CV] classifier__C=0.1, classifier__penalty=l1, classifier__solver=liblinear \n",
      "[CV]  classifier__C=0.1, classifier__penalty=l1, classifier__solver=liblinear, score=0.960, total=   6.5s\n",
      "[Parallel(n_jobs=1)]: Done  27 out of  27 | elapsed:  3.7min remaining:    0.0s\n",
      "[CV] classifier__C=0.1, classifier__penalty=l1, classifier__solver=liblinear \n",
      "[CV]  classifier__C=0.1, classifier__penalty=l1, classifier__solver=liblinear, score=0.963, total=   7.0s\n",
      "[Parallel(n_jobs=1)]: Done  28 out of  28 | elapsed:  3.8min remaining:    0.0s\n",
      "[CV] classifier__C=0.1, classifier__penalty=l1, classifier__solver=liblinear \n",
      "[CV]  classifier__C=0.1, classifier__penalty=l1, classifier__solver=liblinear, score=0.953, total=   7.1s\n",
      "[Parallel(n_jobs=1)]: Done  29 out of  29 | elapsed:  3.9min remaining:    0.0s\n",
      "[CV] classifier__C=0.1, classifier__penalty=l1, classifier__solver=liblinear \n",
      "[CV]  classifier__C=0.1, classifier__penalty=l1, classifier__solver=liblinear, score=0.959, total=   6.0s\n",
      "[Parallel(n_jobs=1)]: Done  30 out of  30 | elapsed:  4.0min remaining:    0.0s\n",
      "[CV] classifier__C=0.1, classifier__penalty=l2, classifier__solver=liblinear \n",
      "[CV]  classifier__C=0.1, classifier__penalty=l2, classifier__solver=liblinear, score=0.956, total=   5.2s\n",
      "[Parallel(n_jobs=1)]: Done  31 out of  31 | elapsed:  4.1min remaining:    0.0s\n",
      "[CV] classifier__C=0.1, classifier__penalty=l2, classifier__solver=liblinear \n"
     ]
    },
    {
     "name": "stdout",
     "output_type": "stream",
     "text": [
      "[CV]  classifier__C=0.1, classifier__penalty=l2, classifier__solver=liblinear, score=0.951, total=   4.9s\n",
      "[Parallel(n_jobs=1)]: Done  32 out of  32 | elapsed:  4.2min remaining:    0.0s\n",
      "[CV] classifier__C=0.1, classifier__penalty=l2, classifier__solver=liblinear \n",
      "[CV]  classifier__C=0.1, classifier__penalty=l2, classifier__solver=liblinear, score=0.959, total=   4.8s\n",
      "[Parallel(n_jobs=1)]: Done  33 out of  33 | elapsed:  4.2min remaining:    0.0s\n",
      "[CV] classifier__C=0.1, classifier__penalty=l2, classifier__solver=liblinear \n",
      "[CV]  classifier__C=0.1, classifier__penalty=l2, classifier__solver=liblinear, score=0.966, total=   5.2s\n",
      "[Parallel(n_jobs=1)]: Done  34 out of  34 | elapsed:  4.3min remaining:    0.0s\n",
      "[CV] classifier__C=0.1, classifier__penalty=l2, classifier__solver=liblinear \n",
      "[CV]  classifier__C=0.1, classifier__penalty=l2, classifier__solver=liblinear, score=0.965, total=   5.1s\n",
      "[Parallel(n_jobs=1)]: Done  35 out of  35 | elapsed:  4.4min remaining:    0.0s\n",
      "[CV] classifier__C=0.1, classifier__penalty=l2, classifier__solver=liblinear \n",
      "[CV]  classifier__C=0.1, classifier__penalty=l2, classifier__solver=liblinear, score=0.963, total=   7.1s\n",
      "[Parallel(n_jobs=1)]: Done  36 out of  36 | elapsed:  4.5min remaining:    0.0s\n",
      "[CV] classifier__C=0.1, classifier__penalty=l2, classifier__solver=liblinear \n",
      "[CV]  classifier__C=0.1, classifier__penalty=l2, classifier__solver=liblinear, score=0.960, total=   8.6s\n",
      "[Parallel(n_jobs=1)]: Done  37 out of  37 | elapsed:  4.7min remaining:    0.0s\n",
      "[CV] classifier__C=0.1, classifier__penalty=l2, classifier__solver=liblinear \n",
      "[CV]  classifier__C=0.1, classifier__penalty=l2, classifier__solver=liblinear, score=0.959, total=   6.6s\n",
      "[Parallel(n_jobs=1)]: Done  38 out of  38 | elapsed:  4.8min remaining:    0.0s\n",
      "[CV] classifier__C=0.1, classifier__penalty=l2, classifier__solver=liblinear \n",
      "[CV]  classifier__C=0.1, classifier__penalty=l2, classifier__solver=liblinear, score=0.946, total=   6.2s\n",
      "[Parallel(n_jobs=1)]: Done  39 out of  39 | elapsed:  4.9min remaining:    0.0s\n",
      "[CV] classifier__C=0.1, classifier__penalty=l2, classifier__solver=liblinear \n",
      "[CV]  classifier__C=0.1, classifier__penalty=l2, classifier__solver=liblinear, score=0.956, total=   5.5s\n",
      "[Parallel(n_jobs=1)]: Done  40 out of  40 | elapsed:  5.0min remaining:    0.0s\n",
      "[CV] classifier__C=1, classifier__penalty=l1, classifier__solver=liblinear \n",
      "[CV]  classifier__C=1, classifier__penalty=l1, classifier__solver=liblinear, score=0.964, total=   5.7s\n",
      "[Parallel(n_jobs=1)]: Done  41 out of  41 | elapsed:  5.1min remaining:    0.0s\n",
      "[CV] classifier__C=1, classifier__penalty=l1, classifier__solver=liblinear \n",
      "[CV]  classifier__C=1, classifier__penalty=l1, classifier__solver=liblinear, score=0.955, total=   6.0s\n",
      "[Parallel(n_jobs=1)]: Done  42 out of  42 | elapsed:  5.2min remaining:    0.0s\n",
      "[CV] classifier__C=1, classifier__penalty=l1, classifier__solver=liblinear \n",
      "[CV]  classifier__C=1, classifier__penalty=l1, classifier__solver=liblinear, score=0.962, total=   8.0s\n",
      "[Parallel(n_jobs=1)]: Done  43 out of  43 | elapsed:  5.3min remaining:    0.0s\n",
      "[CV] classifier__C=1, classifier__penalty=l1, classifier__solver=liblinear \n",
      "[CV]  classifier__C=1, classifier__penalty=l1, classifier__solver=liblinear, score=0.970, total=   8.7s\n",
      "[Parallel(n_jobs=1)]: Done  44 out of  44 | elapsed:  5.5min remaining:    0.0s\n",
      "[CV] classifier__C=1, classifier__penalty=l1, classifier__solver=liblinear \n",
      "[CV]  classifier__C=1, classifier__penalty=l1, classifier__solver=liblinear, score=0.969, total=   6.2s\n",
      "[Parallel(n_jobs=1)]: Done  45 out of  45 | elapsed:  5.6min remaining:    0.0s\n",
      "[CV] classifier__C=1, classifier__penalty=l1, classifier__solver=liblinear \n",
      "[CV]  classifier__C=1, classifier__penalty=l1, classifier__solver=liblinear, score=0.965, total=   5.5s\n",
      "[Parallel(n_jobs=1)]: Done  46 out of  46 | elapsed:  5.6min remaining:    0.0s\n",
      "[CV] classifier__C=1, classifier__penalty=l1, classifier__solver=liblinear \n",
      "[CV]  classifier__C=1, classifier__penalty=l1, classifier__solver=liblinear, score=0.962, total=   5.1s\n",
      "[Parallel(n_jobs=1)]: Done  47 out of  47 | elapsed:  5.7min remaining:    0.0s\n",
      "[CV] classifier__C=1, classifier__penalty=l1, classifier__solver=liblinear \n",
      "[CV]  classifier__C=1, classifier__penalty=l1, classifier__solver=liblinear, score=0.965, total=   5.7s\n",
      "[Parallel(n_jobs=1)]: Done  48 out of  48 | elapsed:  5.8min remaining:    0.0s\n",
      "[CV] classifier__C=1, classifier__penalty=l1, classifier__solver=liblinear \n",
      "[CV]  classifier__C=1, classifier__penalty=l1, classifier__solver=liblinear, score=0.952, total=   5.3s\n",
      "[Parallel(n_jobs=1)]: Done  49 out of  49 | elapsed:  5.9min remaining:    0.0s\n",
      "[CV] classifier__C=1, classifier__penalty=l1, classifier__solver=liblinear \n",
      "[CV]  classifier__C=1, classifier__penalty=l1, classifier__solver=liblinear, score=0.961, total=   5.3s\n",
      "[Parallel(n_jobs=1)]: Done  50 out of  50 | elapsed:  6.0min remaining:    0.0s\n",
      "[CV] classifier__C=1, classifier__penalty=l2, classifier__solver=liblinear \n",
      "[CV]  classifier__C=1, classifier__penalty=l2, classifier__solver=liblinear, score=0.964, total=   4.8s\n",
      "[Parallel(n_jobs=1)]: Done  51 out of  51 | elapsed:  6.1min remaining:    0.0s\n",
      "[CV] classifier__C=1, classifier__penalty=l2, classifier__solver=liblinear \n",
      "[CV]  classifier__C=1, classifier__penalty=l2, classifier__solver=liblinear, score=0.956, total=   5.0s\n",
      "[Parallel(n_jobs=1)]: Done  52 out of  52 | elapsed:  6.2min remaining:    0.0s\n",
      "[CV] classifier__C=1, classifier__penalty=l2, classifier__solver=liblinear \n",
      "[CV]  classifier__C=1, classifier__penalty=l2, classifier__solver=liblinear, score=0.963, total=   4.9s\n",
      "[Parallel(n_jobs=1)]: Done  53 out of  53 | elapsed:  6.3min remaining:    0.0s\n",
      "[CV] classifier__C=1, classifier__penalty=l2, classifier__solver=liblinear \n",
      "[CV]  classifier__C=1, classifier__penalty=l2, classifier__solver=liblinear, score=0.971, total=   5.4s\n",
      "[Parallel(n_jobs=1)]: Done  54 out of  54 | elapsed:  6.3min remaining:    0.0s\n",
      "[CV] classifier__C=1, classifier__penalty=l2, classifier__solver=liblinear \n",
      "[CV]  classifier__C=1, classifier__penalty=l2, classifier__solver=liblinear, score=0.969, total=   5.8s\n",
      "[Parallel(n_jobs=1)]: Done  55 out of  55 | elapsed:  6.4min remaining:    0.0s\n",
      "[CV] classifier__C=1, classifier__penalty=l2, classifier__solver=liblinear \n",
      "[CV]  classifier__C=1, classifier__penalty=l2, classifier__solver=liblinear, score=0.967, total=   5.2s\n",
      "[Parallel(n_jobs=1)]: Done  56 out of  56 | elapsed:  6.5min remaining:    0.0s\n",
      "[CV] classifier__C=1, classifier__penalty=l2, classifier__solver=liblinear \n",
      "[CV]  classifier__C=1, classifier__penalty=l2, classifier__solver=liblinear, score=0.960, total=   5.7s\n",
      "[Parallel(n_jobs=1)]: Done  57 out of  57 | elapsed:  6.6min remaining:    0.0s\n",
      "[CV] classifier__C=1, classifier__penalty=l2, classifier__solver=liblinear \n",
      "[CV]  classifier__C=1, classifier__penalty=l2, classifier__solver=liblinear, score=0.963, total=   5.0s\n",
      "[Parallel(n_jobs=1)]: Done  58 out of  58 | elapsed:  6.7min remaining:    0.0s\n",
      "[CV] classifier__C=1, classifier__penalty=l2, classifier__solver=liblinear \n",
      "[CV]  classifier__C=1, classifier__penalty=l2, classifier__solver=liblinear, score=0.952, total=   5.6s\n",
      "[Parallel(n_jobs=1)]: Done  59 out of  59 | elapsed:  6.8min remaining:    0.0s\n",
      "[CV] classifier__C=1, classifier__penalty=l2, classifier__solver=liblinear \n",
      "[CV]  classifier__C=1, classifier__penalty=l2, classifier__solver=liblinear, score=0.963, total=   5.7s\n",
      "[Parallel(n_jobs=1)]: Done  60 out of  60 | elapsed:  6.9min remaining:    0.0s\n",
      "[Parallel(n_jobs=1)]: Done  60 out of  60 | elapsed:  6.9min finished\n"
     ]
    }
   ],
   "source": [
    "parameter_grid = {'classifier__penalty': ['l1', 'l2'], \n",
    "                  'classifier__C': [0.01, 0.1, 1], \n",
    "                  'classifier__solver': ['liblinear']}\n",
    "tuned_loan_data_pipeline = get_tuned_classifier(loan_data_pipeline, parameter_grid)"
   ]
  },
  {
   "cell_type": "markdown",
   "metadata": {},
   "source": [
    "### <font color='red'>2.11. Test Data Prediction</font>\n",
    "<b>Now that we have a high performing model, let us predict the loan likelihoods for each observation in our test data.</b>"
   ]
  },
  {
   "cell_type": "code",
   "execution_count": 196,
   "metadata": {},
   "outputs": [],
   "source": [
    "y_pred = tuned_loan_data_pipeline.predict(df_cleaned_testing_data)\n",
    "y_pred_log_proba = tuned_loan_data_pipeline.predict_log_proba(df_cleaned_testing_data)"
   ]
  },
  {
   "cell_type": "markdown",
   "metadata": {},
   "source": [
    "## <font color='blue'>Loan Likelihood Calculation</font>"
   ]
  },
  {
   "cell_type": "markdown",
   "metadata": {},
   "source": [
    "<b>To calculate the propensity scores, which is the loan uptake rate in our case, a commonly used technique is to calculate the success probabilities using the predicted log-odds.</b>"
   ]
  },
  {
   "cell_type": "code",
   "execution_count": 197,
   "metadata": {},
   "outputs": [],
   "source": [
    "likelihood_probabilities = np.exp(y_pred_log_proba).tolist()"
   ]
  },
  {
   "cell_type": "markdown",
   "metadata": {},
   "source": [
    "<b>Since in our dataset, the class label '1' represents a customer successfully availing a loan, we need to look at the probabilities of the class label '1'. Hence, we filter them out into a list and express them as percentages.</b>"
   ]
  },
  {
   "cell_type": "code",
   "execution_count": 198,
   "metadata": {},
   "outputs": [],
   "source": [
    "loan_uptake_rate_list = []\n",
    "for prob_list in likelihood_probabilities:\n",
    "    uptake_rate = round(((prob_list[1]/sum(prob_list))*100), 3)\n",
    "    loan_uptake_rate_list.append(uptake_rate)"
   ]
  },
  {
   "cell_type": "markdown",
   "metadata": {},
   "source": [
    "<b>In business terms, we have defined the likelihood categories based on the loan uptake rates, as given below.<br>\n",
    "- Between <font color='blue'>85%</font> and <font color='blue'>100%</font>: <font color='green'>Very High</font> Likelihood\n",
    "- Between <font color='blue'>70%</font> and <font color='blue'>85%</font>: <font color='green'>High</font> Likelihood\n",
    "- Between <font color='blue'>50%</font> and <font color='blue'>70%</font>: <font color='orange'>Medium </font> Likelihood\n",
    "- Between <font color='blue'>25%</font> and <font color='blue'>50%</font>: <font color='red'>Low</font> Likelihood\n",
    "- Less than <font color='blue'>25%</font>: <font color='red'>Very Low</font> Likelihood</b>"
   ]
  },
  {
   "cell_type": "code",
   "execution_count": 199,
   "metadata": {},
   "outputs": [],
   "source": [
    "# For a list of labels based on the scores\n",
    "def get_categories_of_likelihood(loan_uptake_rate_list):\n",
    "    likelihood_category_list = []\n",
    "    for uptake_rate in loan_uptake_rate_list:\n",
    "        if 85.000 <= uptake_rate <=100.000:\n",
    "            likelihood_category_list.append('Very High Likelihood')\n",
    "        elif 70.000 <= uptake_rate <= 84.999:\n",
    "            likelihood_category_list.append('High Likelihood')\n",
    "        elif 50.000 <= uptake_rate <= 69.999:\n",
    "            likelihood_category_list.append('Medium Likelihood')\n",
    "        elif 25.000 <= uptake_rate <= 49.999:\n",
    "            likelihood_category_list.append('Low Likelihood')\n",
    "        else:\n",
    "            likelihood_category_list.append('Very Low Likelihood')\n",
    "    return likelihood_category_list"
   ]
  },
  {
   "cell_type": "code",
   "execution_count": 200,
   "metadata": {},
   "outputs": [
    {
     "data": {
      "text/html": [
       "<div>\n",
       "<style scoped>\n",
       "    .dataframe tbody tr th:only-of-type {\n",
       "        vertical-align: middle;\n",
       "    }\n",
       "\n",
       "    .dataframe tbody tr th {\n",
       "        vertical-align: top;\n",
       "    }\n",
       "\n",
       "    .dataframe thead th {\n",
       "        text-align: right;\n",
       "    }\n",
       "</style>\n",
       "<table border=\"1\" class=\"dataframe\">\n",
       "  <thead>\n",
       "    <tr style=\"text-align: right;\">\n",
       "      <th></th>\n",
       "      <th>Client ID</th>\n",
       "      <th>Uptake Rate</th>\n",
       "      <th>Likelihood Category</th>\n",
       "    </tr>\n",
       "  </thead>\n",
       "  <tbody>\n",
       "    <tr>\n",
       "      <th>0</th>\n",
       "      <td>10001</td>\n",
       "      <td>0.197</td>\n",
       "      <td>Very Low Likelihood</td>\n",
       "    </tr>\n",
       "    <tr>\n",
       "      <th>1</th>\n",
       "      <td>10002</td>\n",
       "      <td>0.109</td>\n",
       "      <td>Very Low Likelihood</td>\n",
       "    </tr>\n",
       "    <tr>\n",
       "      <th>2</th>\n",
       "      <td>10003</td>\n",
       "      <td>1.298</td>\n",
       "      <td>Very Low Likelihood</td>\n",
       "    </tr>\n",
       "    <tr>\n",
       "      <th>3</th>\n",
       "      <td>10004</td>\n",
       "      <td>1.401</td>\n",
       "      <td>Very Low Likelihood</td>\n",
       "    </tr>\n",
       "    <tr>\n",
       "      <th>4</th>\n",
       "      <td>10005</td>\n",
       "      <td>0.277</td>\n",
       "      <td>Very Low Likelihood</td>\n",
       "    </tr>\n",
       "  </tbody>\n",
       "</table>\n",
       "</div>"
      ],
      "text/plain": [
       "   Client ID  Uptake Rate  Likelihood Category\n",
       "0      10001        0.197  Very Low Likelihood\n",
       "1      10002        0.109  Very Low Likelihood\n",
       "2      10003        1.298  Very Low Likelihood\n",
       "3      10004        1.401  Very Low Likelihood\n",
       "4      10005        0.277  Very Low Likelihood"
      ]
     },
     "execution_count": 200,
     "metadata": {},
     "output_type": "execute_result"
    }
   ],
   "source": [
    "# Create a dataframe with the columns - Client ID, Uptake Rate and Likelihood Category\n",
    "likelihood_category_list = get_categories_of_likelihood(loan_uptake_rate_list)\n",
    "loan_likelihood_dict = {'Client ID': test_data_id_list, \n",
    "                        'Uptake Rate': loan_uptake_rate_list, \n",
    "                        'Likelihood Category':likelihood_category_list}\n",
    "\n",
    "df_loan_likelihoods = pd.DataFrame(loan_likelihood_dict)\n",
    "df_loan_likelihoods.head()"
   ]
  },
  {
   "cell_type": "code",
   "execution_count": 201,
   "metadata": {},
   "outputs": [],
   "source": [
    "df_loan_likelihoods.to_csv(PRE_LOAN_LIKELIHOOD_FILE, index=False)"
   ]
  },
  {
   "cell_type": "code",
   "execution_count": 202,
   "metadata": {},
   "outputs": [
    {
     "data": {
      "text/plain": [
       "Very Low Likelihood     1590\n",
       "Low Likelihood           155\n",
       "Very High Likelihood     113\n",
       "Medium Likelihood         92\n",
       "High Likelihood           50\n",
       "Name: Likelihood Category, dtype: int64"
      ]
     },
     "execution_count": 202,
     "metadata": {},
     "output_type": "execute_result"
    }
   ],
   "source": [
    "df_loan_likelihoods['Likelihood Category'].value_counts()"
   ]
  },
  {
   "cell_type": "code",
   "execution_count": 203,
   "metadata": {},
   "outputs": [
    {
     "data": {
      "image/png": "[encoded data removed]",
      "text/plain": [
       "<Figure size 648x288 with 1 Axes>"
      ]
     },
     "metadata": {
      "needs_background": "light"
     },
     "output_type": "display_data"
    }
   ],
   "source": [
    "new_df = pd.DataFrame(df_loan_likelihoods['Likelihood Category'].value_counts())\n",
    "\n",
    "# Set the corresponding positions on the y-axis\n",
    "y_pos = range(len(new_df.index.values))\n",
    "\n",
    "# Create a new figure & set the canvas size\n",
    "plt.figure(figsize=(9,4))\n",
    "\n",
    "# Plot the bar chart\n",
    "bars = plt.bar(y_pos, new_df['Likelihood Category'], align='center', color='red')\n",
    "plt.xticks(y_pos, new_df.index.values)\n",
    "plt.xlabel(\"Loan Likelihood\", fontsize=16)\n",
    "plt.ylabel(\"No. of Customers\", fontsize=16)\n",
    "plt.title(\"No. of Customers per Loan Likelihood Category\", fontsize=18)\n",
    "plt.savefig(EDA_PARENT_DIR + 'Customers_per_LoanLikelihoodCategory.png')"
   ]
  }
 ],
 "metadata": {
  "kernelspec": {
   "display_name": "Python 3",
   "language": "python",
   "name": "python3"
  },
  "language_info": {
   "codemirror_mode": {
    "name": "ipython",
    "version": 3
   },
   "file_extension": ".py",
   "mimetype": "text/x-python",
   "name": "python",
   "nbconvert_exporter": "python",
   "pygments_lexer": "ipython3",
   "version": "3.7.3"
  }
 },
 "nbformat": 4,
 "nbformat_minor": 2
}
